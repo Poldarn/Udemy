{
 "cells": [
  {
   "cell_type": "code",
   "execution_count": null,
   "metadata": {},
   "outputs": [],
   "source": [
    "import numpy as np\n",
    "import pandas as pd\n",
    "from pandas_datareader import data as wb\n",
    "\n",
    "tickers = ['PG', '^GSPC']\n",
    "data_daily = pd.DataFrame()\n",
    "data_monthly = pd.DataFrame()\n",
    "start_date = '1990-1-1'\n",
    "end_date = '2020-1-1'\n",
    "for t in tickers:\n",
    "    data_daily[t] = wb.DataReader(t, data_source='yahoo', start=start_date, end=end_date)['Adj Close']\n",
    "    data_monthly[t] = wb.get_data_yahoo(t, start = start_date, end = end_date, interval ='m')['Adj Close']"
   ]
  },
  {
   "cell_type": "code",
   "execution_count": null,
   "metadata": {},
   "outputs": [],
   "source": [
    "sec_returns_d = np.log( data_daily / data_daily.shift(1) )\n",
    "sec_returns_m = np.log( data_monthly / data_monthly.shift(1) )"
   ]
  },
  {
   "cell_type": "code",
   "execution_count": null,
   "metadata": {
    "scrolled": true
   },
   "outputs": [],
   "source": [
    "cov_d = sec_returns_d.cov() * 250\n",
    "cov_m = sec_returns_m.cov() * 12\n",
    "cov_d, cov_m"
   ]
  },
  {
   "cell_type": "code",
   "execution_count": null,
   "metadata": {},
   "outputs": [],
   "source": [
    "cov_with_market_d = cov_d.iloc[0,1]\n",
    "cov_with_market_m = cov_m.iloc[0,1]"
   ]
  },
  {
   "cell_type": "code",
   "execution_count": null,
   "metadata": {
    "scrolled": true
   },
   "outputs": [],
   "source": [
    "market_var_d = sec_returns_d['^GSPC'].var() * 250\n",
    "market_var_m = sec_returns_m['^GSPC'].var() * 12"
   ]
  },
  {
   "cell_type": "markdown",
   "metadata": {},
   "source": [
    "** Beta: **\n",
    "### $$ \n",
    "\\beta_{pg} = \\frac{\\sigma_{pg,m}}{\\sigma_{m}^2}\n",
    "$$"
   ]
  },
  {
   "cell_type": "code",
   "execution_count": null,
   "metadata": {},
   "outputs": [],
   "source": [
    "PG_beta_d = cov_with_market_d / market_var_d\n",
    "PG_beta_d"
   ]
  },
  {
   "cell_type": "code",
   "execution_count": null,
   "metadata": {},
   "outputs": [],
   "source": [
    "PG_beta_m = cov_with_market_m / market_var_m\n",
    "PG_beta_m"
   ]
  },
  {
   "cell_type": "code",
   "execution_count": null,
   "metadata": {},
   "outputs": [],
   "source": [
    "rf = 0.0072"
   ]
  },
  {
   "cell_type": "code",
   "execution_count": null,
   "metadata": {},
   "outputs": [],
   "source": [
    "mr_d = sec_returns_d['^GSPC'].mean()*250\n",
    "mr_d"
   ]
  },
  {
   "cell_type": "code",
   "execution_count": null,
   "metadata": {},
   "outputs": [],
   "source": [
    "mr_m = sec_returns_m['^GSPC'].mean()*12\n",
    "mr_m"
   ]
  },
  {
   "cell_type": "markdown",
   "metadata": {},
   "source": [
    "### PG annualized epected return: arithmetica mean VS Beta - daily data"
   ]
  },
  {
   "cell_type": "code",
   "execution_count": null,
   "metadata": {},
   "outputs": [],
   "source": [
    "pg_estimation_d = rf + PG_beta_d * (mr_d-rf)\n",
    "pg_estimation_d, sec_returns_d['PG'].mean()*250"
   ]
  },
  {
   "cell_type": "markdown",
   "metadata": {},
   "source": [
    "### PG annualized epected return: arithmetica mean VS Beta - monthly data"
   ]
  },
  {
   "cell_type": "code",
   "execution_count": null,
   "metadata": {},
   "outputs": [],
   "source": [
    "pg_estimation_m = rf + PG_beta_m * (mr_m-rf)\n",
    "pg_estimation_m, sec_returns_m['PG'].mean()*12"
   ]
  }
 ],
 "metadata": {
  "anaconda-cloud": {},
  "kernelspec": {
   "display_name": "Python 3",
   "language": "python",
   "name": "python3"
  },
  "language_info": {
   "codemirror_mode": {
    "name": "ipython",
    "version": 3
   },
   "file_extension": ".py",
   "mimetype": "text/x-python",
   "name": "python",
   "nbconvert_exporter": "python",
   "pygments_lexer": "ipython3",
   "version": "3.7.6"
  }
 },
 "nbformat": 4,
 "nbformat_minor": 1
}
